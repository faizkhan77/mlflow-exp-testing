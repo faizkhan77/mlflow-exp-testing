{
 "cells": [
  {
   "cell_type": "code",
   "execution_count": 1,
   "id": "d3c8450d",
   "metadata": {},
   "outputs": [],
   "source": [
    "from sklearn.datasets import make_classification\n",
    "from sklearn.ensemble import RandomForestClassifier\n",
    "from sklearn.linear_model import LogisticRegression\n",
    "from sklearn.model_selection import train_test_split\n",
    "import numpy as np\n",
    "from sklearn.metrics import classification_report"
   ]
  },
  {
   "cell_type": "code",
   "execution_count": 6,
   "id": "3e52ebec",
   "metadata": {},
   "outputs": [],
   "source": [
    "X, y = make_classification(n_samples=1000, n_features=20, n_classes=2, weights=[0.8, 0.2], \n",
    "                    n_informative=10, n_redundant=10)"
   ]
  },
  {
   "cell_type": "code",
   "execution_count": 7,
   "id": "ac7c268b",
   "metadata": {},
   "outputs": [
    {
     "data": {
      "text/plain": [
       "(array([0, 1]), array([800, 200], dtype=int64))"
      ]
     },
     "execution_count": 7,
     "metadata": {},
     "output_type": "execute_result"
    }
   ],
   "source": [
    "np.unique(y, return_counts=True)"
   ]
  },
  {
   "cell_type": "code",
   "execution_count": 8,
   "id": "9b3590b6",
   "metadata": {},
   "outputs": [],
   "source": [
    "X_train, X_test, y_train, y_test = train_test_split(X, y, random_state=2, stratify=y, test_size=0.2)"
   ]
  },
  {
   "cell_type": "code",
   "execution_count": 9,
   "id": "e8e0ef88",
   "metadata": {},
   "outputs": [
    {
     "name": "stdout",
     "output_type": "stream",
     "text": [
      "              precision    recall  f1-score   support\n",
      "\n",
      "           0       0.94      0.97      0.95       160\n",
      "           1       0.86      0.75      0.80        40\n",
      "\n",
      "    accuracy                           0.93       200\n",
      "   macro avg       0.90      0.86      0.88       200\n",
      "weighted avg       0.92      0.93      0.92       200\n",
      "\n"
     ]
    }
   ],
   "source": [
    "lr_params = {\n",
    "    \"solver\":\"lbfgs\",\n",
    "    \"max_iter\":1000,\n",
    "    \"multi_class\":\"auto\",\n",
    "    \"random_state\":42\n",
    "}\n",
    "lr = LogisticRegression(**lr_params)\n",
    "lr.fit(X_train, y_train)\n",
    "pred = lr.predict(X_test)\n",
    "print(classification_report(y_test, pred))"
   ]
  },
  {
   "cell_type": "code",
   "execution_count": 15,
   "id": "dff85569",
   "metadata": {},
   "outputs": [
    {
     "data": {
      "text/plain": [
       "{'0': {'precision': 0.9393939393939394,\n",
       "  'recall': 0.96875,\n",
       "  'f1-score': 0.9538461538461539,\n",
       "  'support': 160.0},\n",
       " '1': {'precision': 0.8571428571428571,\n",
       "  'recall': 0.75,\n",
       "  'f1-score': 0.7999999999999999,\n",
       "  'support': 40.0},\n",
       " 'accuracy': 0.925,\n",
       " 'macro avg': {'precision': 0.8982683982683983,\n",
       "  'recall': 0.859375,\n",
       "  'f1-score': 0.8769230769230769,\n",
       "  'support': 200.0},\n",
       " 'weighted avg': {'precision': 0.922943722943723,\n",
       "  'recall': 0.925,\n",
       "  'f1-score': 0.923076923076923,\n",
       "  'support': 200.0}}"
      ]
     },
     "execution_count": 15,
     "metadata": {},
     "output_type": "execute_result"
    }
   ],
   "source": [
    "report_dict = classification_report(y_test, pred, output_dict=True)\n",
    "report_dict"
   ]
  },
  {
   "cell_type": "markdown",
   "id": "1777f595",
   "metadata": {},
   "source": [
    "## MLFlow"
   ]
  },
  {
   "cell_type": "code",
   "execution_count": 11,
   "id": "5e5e84a2",
   "metadata": {},
   "outputs": [
    {
     "name": "stdout",
     "output_type": "stream",
     "text": [
      "C:\\Users\\User\\AppData\\Local\\Programs\\Python\\Python311\\python.exe\n"
     ]
    }
   ],
   "source": [
    "import sys\n",
    "print(sys.executable)"
   ]
  },
  {
   "cell_type": "code",
   "execution_count": 12,
   "id": "bc41d262",
   "metadata": {},
   "outputs": [],
   "source": [
    "# import sys\n",
    "# !{sys.executable} -m pip install mlflow\n",
    "import mlflow"
   ]
  },
  {
   "cell_type": "code",
   "execution_count": 13,
   "id": "54940e0f",
   "metadata": {},
   "outputs": [
    {
     "data": {
      "text/plain": [
       "0.925"
      ]
     },
     "execution_count": 13,
     "metadata": {},
     "output_type": "execute_result"
    }
   ],
   "source": [
    "report_dict['accuracy']"
   ]
  },
  {
   "cell_type": "code",
   "execution_count": 14,
   "id": "77e7341b",
   "metadata": {},
   "outputs": [
    {
     "data": {
      "text/plain": [
       "0.96875"
      ]
     },
     "execution_count": 14,
     "metadata": {},
     "output_type": "execute_result"
    }
   ],
   "source": [
    "report_dict['0']['recall']"
   ]
  },
  {
   "cell_type": "code",
   "execution_count": 20,
   "id": "8cac6fa0",
   "metadata": {},
   "outputs": [
    {
     "name": "stderr",
     "output_type": "stream",
     "text": [
      "2024/08/15 01:50:54 INFO mlflow.tracking.fluent: Experiment with name 'First Experiment' does not exist. Creating a new experiment.\n",
      "2024/08/15 01:51:26 WARNING mlflow.models.model: Input example should be provided to infer model signature if the model signature is not provided when logging the model.\n",
      "2024/08/15 01:51:26 INFO mlflow.tracking._tracking_service.client: 🏃 View run legendary-hound-399 at: http://127.0.0.1:5000/#/experiments/271576795570987654/runs/6e4d77b18c76474282c89074594ef9cd.\n",
      "2024/08/15 01:51:26 INFO mlflow.tracking._tracking_service.client: 🧪 View experiment at: http://127.0.0.1:5000/#/experiments/271576795570987654.\n"
     ]
    }
   ],
   "source": [
    "mlflow.set_experiment(\"First Experiment\")\n",
    "mlflow.set_tracking_uri(\"http://127.0.0.1:5000/\")\n",
    "\n",
    "with mlflow.start_run():\n",
    "    mlflow.log_params(lr_params)\n",
    "    mlflow.log_metrics({\n",
    "        \"accuracy\":report_dict['accuracy'],\n",
    "        \"precision_class_0\":report_dict['0']['precision'],\n",
    "        \"precision_class_1\":report_dict['1']['precision'],\n",
    "        \"recall_class_0\":report_dict['0']['recall'],\n",
    "        \"recall_class_1\":report_dict['1']['recall'],\n",
    "    })\n",
    "    mlflow.sklearn.log_model(lr, \"Logistic Regression\")"
   ]
  },
  {
   "cell_type": "markdown",
   "id": "604cc28e",
   "metadata": {},
   "source": [
    "## Training more models to log into MLFlow"
   ]
  },
  {
   "cell_type": "code",
   "execution_count": 22,
   "id": "55543461",
   "metadata": {},
   "outputs": [
    {
     "name": "stdout",
     "output_type": "stream",
     "text": [
      "              precision    recall  f1-score   support\n",
      "\n",
      "           0       0.94      0.99      0.96       160\n",
      "           1       0.94      0.75      0.83        40\n",
      "\n",
      "    accuracy                           0.94       200\n",
      "   macro avg       0.94      0.87      0.90       200\n",
      "weighted avg       0.94      0.94      0.94       200\n",
      "\n"
     ]
    }
   ],
   "source": [
    "rf_params = {\n",
    "    \"n_estimators\":500,\n",
    "    \"criterion\":\"gini\",\n",
    "    \"bootstrap\":True\n",
    "}\n",
    "rf = RandomForestClassifier(**rf_params)\n",
    "rf.fit(X_train, y_train)\n",
    "rf_pred = rf.predict(X_test)\n",
    "print(classification_report(y_test, rf_pred))"
   ]
  },
  {
   "cell_type": "code",
   "execution_count": 23,
   "id": "9fccdee5",
   "metadata": {},
   "outputs": [
    {
     "name": "stdout",
     "output_type": "stream",
     "text": [
      "              precision    recall  f1-score   support\n",
      "\n",
      "           0       0.91      0.99      0.95       160\n",
      "           1       0.96      0.60      0.74        40\n",
      "\n",
      "    accuracy                           0.92       200\n",
      "   macro avg       0.93      0.80      0.84       200\n",
      "weighted avg       0.92      0.92      0.91       200\n",
      "\n"
     ]
    }
   ],
   "source": [
    "from sklearn.neighbors import KNeighborsClassifier\n",
    "knn_params = {\n",
    "    \"n_neighbors\":20,\n",
    "}\n",
    "knn = KNeighborsClassifier(**knn_params)\n",
    "knn.fit(X_train, y_train)\n",
    "knn_pred = knn.predict(X_test)\n",
    "print(classification_report(y_test, knn_pred))"
   ]
  },
  {
   "cell_type": "code",
   "execution_count": 24,
   "id": "89a0029c",
   "metadata": {},
   "outputs": [
    {
     "name": "stdout",
     "output_type": "stream",
     "text": [
      "              precision    recall  f1-score   support\n",
      "\n",
      "           0       0.95      0.99      0.97       160\n",
      "           1       0.97      0.78      0.86        40\n",
      "\n",
      "    accuracy                           0.95       200\n",
      "   macro avg       0.96      0.88      0.92       200\n",
      "weighted avg       0.95      0.95      0.95       200\n",
      "\n"
     ]
    }
   ],
   "source": [
    "from sklearn.svm import SVC\n",
    "svm_params = {\n",
    "    \"kernel\":\"rbf\",\n",
    "    \"C\":1.0\n",
    "}\n",
    "svm = SVC(**svm_params)\n",
    "svm.fit(X_train, y_train)\n",
    "svm_pred = svm.predict(X_test)\n",
    "print(classification_report(y_test, svm_pred))"
   ]
  },
  {
   "cell_type": "code",
   "execution_count": 25,
   "id": "d0230d84",
   "metadata": {},
   "outputs": [
    {
     "data": {
      "text/plain": [
       "(array([0, 1]), array([800, 200], dtype=int64))"
      ]
     },
     "execution_count": 25,
     "metadata": {},
     "output_type": "execute_result"
    }
   ],
   "source": [
    "np.unique(y, return_counts=True)"
   ]
  },
  {
   "cell_type": "code",
   "execution_count": 26,
   "id": "89249831",
   "metadata": {},
   "outputs": [
    {
     "data": {
      "text/plain": [
       "(array([0, 1]), array([639, 639], dtype=int64))"
      ]
     },
     "execution_count": 26,
     "metadata": {},
     "output_type": "execute_result"
    }
   ],
   "source": [
    "from imblearn.combine import SMOTETomek\n",
    "\n",
    "smt = SMOTETomek(random_state=42)\n",
    "X_train_sampled, y_train_sampled = smt.fit_resample(X_train, y_train)\n",
    "np.unique(y_train_sampled, return_counts=True)"
   ]
  },
  {
   "cell_type": "code",
   "execution_count": 39,
   "id": "a11f455c",
   "metadata": {},
   "outputs": [
    {
     "name": "stdout",
     "output_type": "stream",
     "text": [
      "Collecting xgboost\n",
      "  Downloading xgboost-2.1.1-py3-none-win_amd64.whl (124.9 MB)\n",
      "     -------------------------------------- 124.9/124.9 MB 1.2 MB/s eta 0:00:00\n",
      "Requirement already satisfied: numpy in c:\\users\\user\\appdata\\local\\programs\\python\\python311\\lib\\site-packages (from xgboost) (1.24.1)\n",
      "Requirement already satisfied: scipy in c:\\users\\user\\appdata\\local\\programs\\python\\python311\\lib\\site-packages (from xgboost) (1.10.1)\n",
      "Installing collected packages: xgboost\n",
      "Successfully installed xgboost-2.1.1\n"
     ]
    },
    {
     "name": "stderr",
     "output_type": "stream",
     "text": [
      "\n",
      "[notice] A new release of pip available: 22.3.1 -> 24.2\n",
      "[notice] To update, run: C:\\Users\\User\\AppData\\Local\\Programs\\Python\\Python311\\python.exe -m pip install --upgrade pip\n"
     ]
    }
   ],
   "source": [
    "!{sys.executable} -m pip install xgboost"
   ]
  },
  {
   "cell_type": "code",
   "execution_count": 42,
   "id": "1a5973ea",
   "metadata": {},
   "outputs": [
    {
     "name": "stdout",
     "output_type": "stream",
     "text": [
      "              precision    recall  f1-score   support\n",
      "\n",
      "           0       0.97      0.97      0.97       160\n",
      "           1       0.90      0.88      0.89        40\n",
      "\n",
      "    accuracy                           0.95       200\n",
      "   macro avg       0.93      0.93      0.93       200\n",
      "weighted avg       0.95      0.95      0.95       200\n",
      "\n"
     ]
    }
   ],
   "source": [
    "import xgboost as xgb\n",
    "xgb_classifier = xgb.XGBClassifier(eval_metric='logloss')\n",
    "xgb_classifier.fit(X_train_sampled, y_train_sampled)\n",
    "xgb_pred = xgb_classifier.predict(X_test)\n",
    "print(classification_report(y_test, xgb_pred))"
   ]
  },
  {
   "cell_type": "markdown",
   "id": "e0bc9fae",
   "metadata": {},
   "source": [
    "## Track Experiments Using MLFlow"
   ]
  },
  {
   "cell_type": "code",
   "execution_count": 45,
   "id": "7d556132",
   "metadata": {},
   "outputs": [],
   "source": [
    "models = [\n",
    "    (\n",
    "        \"Logistic Regression\",\n",
    "        LogisticRegression(C=1, solver=\"liblinear\", max_iter=500),\n",
    "        (X_train, y_train),\n",
    "        (X_test, y_test)\n",
    "    ),\n",
    "    (\n",
    "        \"Random Forest\",\n",
    "        RandomForestClassifier(criterion=\"entropy\", bootstrap=True, n_estimators=500),\n",
    "        (X_train, y_train),\n",
    "        (X_test, y_test)\n",
    "    ),\n",
    "    (\n",
    "        \"KNN\",\n",
    "        KNeighborsClassifier(n_neighbors=20),\n",
    "        (X_train, y_train),\n",
    "        (X_test, y_test)\n",
    "    ),\n",
    "    (\n",
    "        \"SVM\",\n",
    "        SVC(C=1.0, kernel=\"rbf\"),\n",
    "        (X_train, y_train),\n",
    "        (X_test, y_test)\n",
    "    ),\n",
    "    (\n",
    "        \"XGBoost with SMOTETomek\",\n",
    "        xgb.XGBClassifier(eval_metric='logloss'),\n",
    "        (X_train_sampled, y_train_sampled),\n",
    "        (X_test, y_test)\n",
    "    )\n",
    "]"
   ]
  },
  {
   "cell_type": "code",
   "execution_count": 46,
   "id": "5e77ca11",
   "metadata": {},
   "outputs": [],
   "source": [
    "reports = []\n",
    "\n",
    "for model_name, model, train_set, test_set in models:\n",
    "    X_train = train_set[0]\n",
    "    y_train = train_set[1]\n",
    "    X_test = test_set[0]\n",
    "    y_test = test_set[1]\n",
    "    \n",
    "    model.fit(X_train, y_train)\n",
    "    y_pred = model.predict(X_test)\n",
    "    report = classification_report(y_test, y_pred, output_dict=True)\n",
    "    reports.append(report)"
   ]
  },
  {
   "cell_type": "code",
   "execution_count": 47,
   "id": "442d0ee6",
   "metadata": {
    "collapsed": true
   },
   "outputs": [
    {
     "data": {
      "text/plain": [
       "[{'0': {'precision': 0.9393939393939394,\n",
       "   'recall': 0.96875,\n",
       "   'f1-score': 0.9538461538461539,\n",
       "   'support': 160.0},\n",
       "  '1': {'precision': 0.8571428571428571,\n",
       "   'recall': 0.75,\n",
       "   'f1-score': 0.7999999999999999,\n",
       "   'support': 40.0},\n",
       "  'accuracy': 0.925,\n",
       "  'macro avg': {'precision': 0.8982683982683983,\n",
       "   'recall': 0.859375,\n",
       "   'f1-score': 0.8769230769230769,\n",
       "   'support': 200.0},\n",
       "  'weighted avg': {'precision': 0.922943722943723,\n",
       "   'recall': 0.925,\n",
       "   'f1-score': 0.923076923076923,\n",
       "   'support': 200.0}},\n",
       " {'0': {'precision': 0.9294117647058824,\n",
       "   'recall': 0.9875,\n",
       "   'f1-score': 0.9575757575757576,\n",
       "   'support': 160.0},\n",
       "  '1': {'precision': 0.9333333333333333,\n",
       "   'recall': 0.7,\n",
       "   'f1-score': 0.8,\n",
       "   'support': 40.0},\n",
       "  'accuracy': 0.93,\n",
       "  'macro avg': {'precision': 0.9313725490196079,\n",
       "   'recall': 0.84375,\n",
       "   'f1-score': 0.8787878787878789,\n",
       "   'support': 200.0},\n",
       "  'weighted avg': {'precision': 0.9301960784313726,\n",
       "   'recall': 0.93,\n",
       "   'f1-score': 0.9260606060606061,\n",
       "   'support': 200.0}},\n",
       " {'0': {'precision': 0.9085714285714286,\n",
       "   'recall': 0.99375,\n",
       "   'f1-score': 0.9492537313432835,\n",
       "   'support': 160.0},\n",
       "  '1': {'precision': 0.96,\n",
       "   'recall': 0.6,\n",
       "   'f1-score': 0.7384615384615384,\n",
       "   'support': 40.0},\n",
       "  'accuracy': 0.915,\n",
       "  'macro avg': {'precision': 0.9342857142857143,\n",
       "   'recall': 0.796875,\n",
       "   'f1-score': 0.843857634902411,\n",
       "   'support': 200.0},\n",
       "  'weighted avg': {'precision': 0.9188571428571428,\n",
       "   'recall': 0.915,\n",
       "   'f1-score': 0.9070952927669346,\n",
       "   'support': 200.0}},\n",
       " {'0': {'precision': 0.9464285714285714,\n",
       "   'recall': 0.99375,\n",
       "   'f1-score': 0.9695121951219512,\n",
       "   'support': 160.0},\n",
       "  '1': {'precision': 0.96875,\n",
       "   'recall': 0.775,\n",
       "   'f1-score': 0.8611111111111113,\n",
       "   'support': 40.0},\n",
       "  'accuracy': 0.95,\n",
       "  'macro avg': {'precision': 0.9575892857142857,\n",
       "   'recall': 0.884375,\n",
       "   'f1-score': 0.9153116531165313,\n",
       "   'support': 200.0},\n",
       "  'weighted avg': {'precision': 0.9508928571428571,\n",
       "   'recall': 0.95,\n",
       "   'f1-score': 0.9478319783197833,\n",
       "   'support': 200.0}},\n",
       " {'0': {'precision': 0.968944099378882,\n",
       "   'recall': 0.975,\n",
       "   'f1-score': 0.9719626168224299,\n",
       "   'support': 160.0},\n",
       "  '1': {'precision': 0.8974358974358975,\n",
       "   'recall': 0.875,\n",
       "   'f1-score': 0.8860759493670887,\n",
       "   'support': 40.0},\n",
       "  'accuracy': 0.955,\n",
       "  'macro avg': {'precision': 0.9331899984073897,\n",
       "   'recall': 0.925,\n",
       "   'f1-score': 0.9290192830947592,\n",
       "   'support': 200.0},\n",
       "  'weighted avg': {'precision': 0.9546424589902852,\n",
       "   'recall': 0.955,\n",
       "   'f1-score': 0.9547852833313616,\n",
       "   'support': 200.0}}]"
      ]
     },
     "execution_count": 47,
     "metadata": {},
     "output_type": "execute_result"
    }
   ],
   "source": [
    "reports"
   ]
  },
  {
   "cell_type": "code",
   "execution_count": 57,
   "id": "b7da3c6b",
   "metadata": {},
   "outputs": [
    {
     "name": "stderr",
     "output_type": "stream",
     "text": [
      "C:\\Users\\User\\AppData\\Local\\Programs\\Python\\Python311\\Lib\\site-packages\\_distutils_hack\\__init__.py:18: UserWarning: Distutils was imported before Setuptools, but importing Setuptools also replaces the `distutils` module in `sys.modules`. This may lead to undesirable behaviors or errors. To avoid these issues, avoid using distutils directly, ensure that setuptools is installed in the traditional way (e.g. not an editable install), and/or make sure that setuptools is always imported before distutils.\n",
      "  warnings.warn(\n",
      "C:\\Users\\User\\AppData\\Local\\Programs\\Python\\Python311\\Lib\\site-packages\\_distutils_hack\\__init__.py:33: UserWarning: Setuptools is replacing distutils.\n",
      "  warnings.warn(\"Setuptools is replacing distutils.\")\n",
      "2024/08/15 02:54:46 WARNING mlflow.models.model: Input example should be provided to infer model signature if the model signature is not provided when logging the model.\n",
      "2024/08/15 02:54:46 INFO mlflow.tracking._tracking_service.client: 🏃 View run Logistic Regression at: http://127.0.0.1:5000/#/experiments/305430055493993902/runs/b142b1aff2d7472ead9dca9a4654f0bd.\n",
      "2024/08/15 02:54:46 INFO mlflow.tracking._tracking_service.client: 🧪 View experiment at: http://127.0.0.1:5000/#/experiments/305430055493993902.\n",
      "2024/08/15 02:54:55 WARNING mlflow.models.model: Input example should be provided to infer model signature if the model signature is not provided when logging the model.\n",
      "2024/08/15 02:54:55 INFO mlflow.tracking._tracking_service.client: 🏃 View run Random Forest at: http://127.0.0.1:5000/#/experiments/305430055493993902/runs/ee7a313149804c6aadd5ef5768c6e3c7.\n",
      "2024/08/15 02:54:55 INFO mlflow.tracking._tracking_service.client: 🧪 View experiment at: http://127.0.0.1:5000/#/experiments/305430055493993902.\n",
      "2024/08/15 02:55:03 WARNING mlflow.models.model: Input example should be provided to infer model signature if the model signature is not provided when logging the model.\n",
      "2024/08/15 02:55:03 INFO mlflow.tracking._tracking_service.client: 🏃 View run KNN at: http://127.0.0.1:5000/#/experiments/305430055493993902/runs/3ad787df500643a5ba21c7c126280624.\n",
      "2024/08/15 02:55:03 INFO mlflow.tracking._tracking_service.client: 🧪 View experiment at: http://127.0.0.1:5000/#/experiments/305430055493993902.\n",
      "2024/08/15 02:55:11 WARNING mlflow.models.model: Input example should be provided to infer model signature if the model signature is not provided when logging the model.\n",
      "2024/08/15 02:55:11 INFO mlflow.tracking._tracking_service.client: 🏃 View run SVM at: http://127.0.0.1:5000/#/experiments/305430055493993902/runs/6de2b5835cc041cc9b637b6c297906b7.\n",
      "2024/08/15 02:55:11 INFO mlflow.tracking._tracking_service.client: 🧪 View experiment at: http://127.0.0.1:5000/#/experiments/305430055493993902.\n",
      "C:\\Users\\User\\AppData\\Local\\Programs\\Python\\Python311\\Lib\\site-packages\\xgboost\\core.py:158: UserWarning: [02:55:12] WARNING: C:\\buildkite-agent\\builds\\buildkite-windows-cpu-autoscaling-group-i-0015a694724fa8361-1\\xgboost\\xgboost-ci-windows\\src\\c_api\\c_api.cc:1374: Saving model in the UBJSON format as default.  You can use file extension: `json`, `ubj` or `deprecated` to choose between formats.\n",
      "  warnings.warn(smsg, UserWarning)\n",
      "2024/08/15 02:55:20 WARNING mlflow.models.model: Input example should be provided to infer model signature if the model signature is not provided when logging the model.\n",
      "2024/08/15 02:55:20 INFO mlflow.tracking._tracking_service.client: 🏃 View run XGBoost with SMOTETomek at: http://127.0.0.1:5000/#/experiments/305430055493993902/runs/0596df9ef35c40f099988b55950501fc.\n",
      "2024/08/15 02:55:20 INFO mlflow.tracking._tracking_service.client: 🧪 View experiment at: http://127.0.0.1:5000/#/experiments/305430055493993902.\n"
     ]
    }
   ],
   "source": [
    "mlflow.set_experiment(\"Test Experiments\")\n",
    "mlflow.set_tracking_uri(\"http://127.0.0.1:5000/\")\n",
    "\n",
    "for i, elements in enumerate(models):\n",
    "    model_name = elements[0]\n",
    "    model = elements[1]\n",
    "    report = reports[i]\n",
    "    \n",
    "    with mlflow.start_run(run_name=model_name):\n",
    "        mlflow.log_param(\"model_name\", model_name)\n",
    "        mlflow.log_metric(\"accuracy\", report['accuracy'])\n",
    "        mlflow.log_metric(\"precision_class_0\", report_dict['0']['precision'])\n",
    "        mlflow.log_metric(\"precision_class_1\", report_dict['1']['precision'])\n",
    "        mlflow.log_metric(\"recall_class_0\", report_dict['0']['recall'])\n",
    "        mlflow.log_metric(\"recall_class_1\", report_dict['1']['recall'])\n",
    "        \n",
    "        if \"XGB\" in model_name:\n",
    "            mlflow.xgboost.log_model(model, \"model\")\n",
    "        else:\n",
    "            mlflow.sklearn.log_model(model, \"model\")"
   ]
  },
  {
   "cell_type": "markdown",
   "id": "3218de4d",
   "metadata": {},
   "source": [
    "## Now, will add parameters dictionary for each individual model"
   ]
  },
  {
   "cell_type": "code",
   "execution_count": 72,
   "id": "44ec1025",
   "metadata": {},
   "outputs": [],
   "source": [
    "models = [\n",
    "    (\n",
    "        \"Logistic Regression\",\n",
    "        {\"C\":1, \"solver\":\"liblinear\", \"max_iter\":500},\n",
    "        LogisticRegression(),\n",
    "        (X_train, y_train),\n",
    "        (X_test, y_test)\n",
    "    ),\n",
    "    (\n",
    "        \"Random Forest\",\n",
    "        {\"criterion\":\"entropy\", \"bootstrap\":True, \"n_estimators\":500},\n",
    "        RandomForestClassifier(),\n",
    "        (X_train, y_train),\n",
    "        (X_test, y_test)\n",
    "    ),\n",
    "    (\n",
    "        \"KNN\",\n",
    "        {\"n_neighbors\":20},\n",
    "        KNeighborsClassifier(),\n",
    "        (X_train, y_train),\n",
    "        (X_test, y_test)\n",
    "    ),\n",
    "    (\n",
    "        \"SVM\",\n",
    "        {\"C\":1.0, \"kernel\":\"rbf\"},\n",
    "        SVC(),\n",
    "        (X_train, y_train),\n",
    "        (X_test, y_test)\n",
    "    ),\n",
    "    (\n",
    "        \"XGBoost with SMOTETomek\",\n",
    "        {\"eval_metric\":'logloss'},\n",
    "        xgb.XGBClassifier(),\n",
    "        (X_train_sampled, y_train_sampled),\n",
    "        (X_test, y_test)\n",
    "    )\n",
    "]"
   ]
  },
  {
   "cell_type": "code",
   "execution_count": 73,
   "id": "5f8dfad9",
   "metadata": {},
   "outputs": [],
   "source": [
    "reports = []\n",
    "\n",
    "for model_name, params, model, train_set, test_set in models:\n",
    "    X_train = train_set[0]\n",
    "    y_train = train_set[1]\n",
    "    X_test = test_set[0]\n",
    "    y_test = test_set[1]\n",
    "    \n",
    "    model.set_params(**params)\n",
    "    model.fit(X_train, y_train)\n",
    "    y_pred = model.predict(X_test)\n",
    "    report = classification_report(y_test, y_pred, output_dict=True)\n",
    "    reports.append(report)"
   ]
  },
  {
   "cell_type": "code",
   "execution_count": 75,
   "id": "29b76ea9",
   "metadata": {},
   "outputs": [
    {
     "name": "stderr",
     "output_type": "stream",
     "text": [
      "C:\\Users\\User\\AppData\\Local\\Programs\\Python\\Python311\\Lib\\site-packages\\_distutils_hack\\__init__.py:18: UserWarning: Distutils was imported before Setuptools, but importing Setuptools also replaces the `distutils` module in `sys.modules`. This may lead to undesirable behaviors or errors. To avoid these issues, avoid using distutils directly, ensure that setuptools is installed in the traditional way (e.g. not an editable install), and/or make sure that setuptools is always imported before distutils.\n",
      "  warnings.warn(\n",
      "C:\\Users\\User\\AppData\\Local\\Programs\\Python\\Python311\\Lib\\site-packages\\_distutils_hack\\__init__.py:33: UserWarning: Setuptools is replacing distutils.\n",
      "  warnings.warn(\"Setuptools is replacing distutils.\")\n",
      "2024/08/15 18:50:34 WARNING mlflow.models.model: Input example should be provided to infer model signature if the model signature is not provided when logging the model.\n",
      "2024/08/15 18:50:34 INFO mlflow.tracking._tracking_service.client: 🏃 View run Logistic Regression at: http://127.0.0.1:5000/#/experiments/532443340321630467/runs/32be8c8fba46405191ecb4fbe34a0928.\n",
      "2024/08/15 18:50:34 INFO mlflow.tracking._tracking_service.client: 🧪 View experiment at: http://127.0.0.1:5000/#/experiments/532443340321630467.\n",
      "2024/08/15 18:50:43 WARNING mlflow.models.model: Input example should be provided to infer model signature if the model signature is not provided when logging the model.\n",
      "2024/08/15 18:50:43 INFO mlflow.tracking._tracking_service.client: 🏃 View run Random Forest at: http://127.0.0.1:5000/#/experiments/532443340321630467/runs/f1313c9c3dae4996b668e308049b7afa.\n",
      "2024/08/15 18:50:43 INFO mlflow.tracking._tracking_service.client: 🧪 View experiment at: http://127.0.0.1:5000/#/experiments/532443340321630467.\n",
      "2024/08/15 18:50:50 WARNING mlflow.models.model: Input example should be provided to infer model signature if the model signature is not provided when logging the model.\n",
      "2024/08/15 18:50:50 INFO mlflow.tracking._tracking_service.client: 🏃 View run KNN at: http://127.0.0.1:5000/#/experiments/532443340321630467/runs/fe5a43f735bb417ea68d666f6e93aff9.\n",
      "2024/08/15 18:50:50 INFO mlflow.tracking._tracking_service.client: 🧪 View experiment at: http://127.0.0.1:5000/#/experiments/532443340321630467.\n",
      "2024/08/15 18:50:57 WARNING mlflow.models.model: Input example should be provided to infer model signature if the model signature is not provided when logging the model.\n",
      "2024/08/15 18:50:57 INFO mlflow.tracking._tracking_service.client: 🏃 View run SVM at: http://127.0.0.1:5000/#/experiments/532443340321630467/runs/5ecc568eaa1243b6a58de958fe13ac43.\n",
      "2024/08/15 18:50:57 INFO mlflow.tracking._tracking_service.client: 🧪 View experiment at: http://127.0.0.1:5000/#/experiments/532443340321630467.\n",
      "C:\\Users\\User\\AppData\\Local\\Programs\\Python\\Python311\\Lib\\site-packages\\xgboost\\core.py:158: UserWarning: [18:50:57] WARNING: C:\\buildkite-agent\\builds\\buildkite-windows-cpu-autoscaling-group-i-0015a694724fa8361-1\\xgboost\\xgboost-ci-windows\\src\\c_api\\c_api.cc:1374: Saving model in the UBJSON format as default.  You can use file extension: `json`, `ubj` or `deprecated` to choose between formats.\n",
      "  warnings.warn(smsg, UserWarning)\n",
      "2024/08/15 18:51:05 WARNING mlflow.models.model: Input example should be provided to infer model signature if the model signature is not provided when logging the model.\n",
      "2024/08/15 18:51:05 INFO mlflow.tracking._tracking_service.client: 🏃 View run XGBoost with SMOTETomek at: http://127.0.0.1:5000/#/experiments/532443340321630467/runs/0e6dfbc042ca4666b0976a4f3e734de9.\n",
      "2024/08/15 18:51:05 INFO mlflow.tracking._tracking_service.client: 🧪 View experiment at: http://127.0.0.1:5000/#/experiments/532443340321630467.\n"
     ]
    }
   ],
   "source": [
    "mlflow.set_experiment(\"New Experiments\")\n",
    "mlflow.set_tracking_uri(\"http://127.0.0.1:5000/\")\n",
    "\n",
    "for i, elements in enumerate(models):\n",
    "    model_name = elements[0]\n",
    "    params = elements[1]\n",
    "    model = elements[2]\n",
    "    report = reports[i]\n",
    "    \n",
    "    with mlflow.start_run(run_name=model_name):\n",
    "        mlflow.log_params(params)\n",
    "        mlflow.log_metrics({\n",
    "            \"accuracy\":report['accuracy'],\n",
    "            \"precision_class_0\":report['0']['precision'],\n",
    "            \"precision_class_1\":report['1']['precision'],\n",
    "            \"recall_class_0\":report['0']['recall'],\n",
    "            \"recall_class_1\":report['1']['recall'],\n",
    "        })\n",
    "        \n",
    "        if \"XGB\" in model_name:\n",
    "            mlflow.xgboost.log_model(model, \"model\")\n",
    "        else:\n",
    "            mlflow.sklearn.log_model(model, \"model\")"
   ]
  },
  {
   "cell_type": "markdown",
   "id": "966e3cf6",
   "metadata": {},
   "source": [
    "## REGISTER THE MODEL TO MODEL REGISTRY\n",
    "\n",
    "model uri should be in this format\n",
    "\n",
    "`runs/{run_id}/model`\n",
    "\n",
    "you can specify model name as anything, also we are just taking run id as input but u can pass it directly as well"
   ]
  },
  {
   "cell_type": "code",
   "execution_count": 78,
   "id": "a1346c14",
   "metadata": {},
   "outputs": [
    {
     "name": "stdout",
     "output_type": "stream",
     "text": [
      "Enter run id: 0e6dfbc042ca4666b0976a4f3e734de9\n"
     ]
    },
    {
     "name": "stderr",
     "output_type": "stream",
     "text": [
      "Successfully registered model 'XGBoost-SMOTETomek'.\n",
      "2024/08/15 19:57:41 INFO mlflow.store.model_registry.abstract_store: Waiting up to 300 seconds for model version to finish creation. Model name: XGBoost-SMOTETomek, version 1\n",
      "Created version '1' of model 'XGBoost-SMOTETomek'.\n"
     ]
    }
   ],
   "source": [
    "model_name = \"XGBoost-SMOTETomek\"\n",
    "model_run_id = input(\"Enter run id: \")\n",
    "model_uri = f\"runs:/{model_run_id}/model\"\n",
    "\n",
    "result = mlflow.register_model(\n",
    "    model_uri=model_uri, name=model_name\n",
    ")"
   ]
  },
  {
   "cell_type": "markdown",
   "id": "30533c46",
   "metadata": {},
   "source": [
    "## LOAD MLFLOW MODEL\n",
    "\n",
    "Lets say we wanna load our Challenger model, since its XGBoost, will use `XGBoost`, if it were sklearn we would write `sklearn`"
   ]
  },
  {
   "cell_type": "code",
   "execution_count": 82,
   "id": "c9f229aa",
   "metadata": {},
   "outputs": [
    {
     "data": {
      "application/vnd.jupyter.widget-view+json": {
       "model_id": "590a2f8acde94be6be60024927757f6a",
       "version_major": 2,
       "version_minor": 0
      },
      "text/plain": [
       "Downloading artifacts:   0%|          | 0/5 [00:00<?, ?it/s]"
      ]
     },
     "metadata": {},
     "output_type": "display_data"
    },
    {
     "data": {
      "text/plain": [
       "array([0, 0, 0, 0, 1])"
      ]
     },
     "execution_count": 82,
     "metadata": {},
     "output_type": "execute_result"
    }
   ],
   "source": [
    "model_version = 1\n",
    "model_name = \"XGBoost-SMOTETomek\"\n",
    "model_uri = f\"models:/{model_name}/{model_version}\"\n",
    "\n",
    "loaded_model = mlflow.xgboost.load_model(model_uri=model_uri)\n",
    "\n",
    "pred = loaded_model.predict(X_test)\n",
    "pred[:5]"
   ]
  },
  {
   "cell_type": "code",
   "execution_count": 83,
   "id": "f1c3c28b",
   "metadata": {},
   "outputs": [
    {
     "data": {
      "application/vnd.jupyter.widget-view+json": {
       "model_id": "4f1e64b1793e45aab30301449f68caa8",
       "version_major": 2,
       "version_minor": 0
      },
      "text/plain": [
       "Downloading artifacts:   0%|          | 0/5 [00:00<?, ?it/s]"
      ]
     },
     "metadata": {},
     "output_type": "display_data"
    },
    {
     "data": {
      "text/plain": [
       "array([0, 0, 0, 0, 1])"
      ]
     },
     "execution_count": 83,
     "metadata": {},
     "output_type": "execute_result"
    }
   ],
   "source": [
    "model_version = 1\n",
    "model_name = \"XGBoost-SMOTETomek\"\n",
    "model_uri = f\"models:/{model_name}@challenger\"\n",
    "\n",
    "loaded_model = mlflow.xgboost.load_model(model_uri=model_uri)\n",
    "\n",
    "pred = loaded_model.predict(X_test)\n",
    "pred[:5]"
   ]
  },
  {
   "cell_type": "markdown",
   "id": "3a03ddf9",
   "metadata": {},
   "source": [
    "## Put the Model from Development Environment to Production Environment"
   ]
  },
  {
   "cell_type": "code",
   "execution_count": 85,
   "id": "84e91248",
   "metadata": {},
   "outputs": [
    {
     "name": "stderr",
     "output_type": "stream",
     "text": [
      "Successfully registered model 'XGBoost-production'.\n",
      "Copied version '1' of model 'XGBoost-SMOTETomek' to version '1' of model 'XGBoost-production'.\n"
     ]
    },
    {
     "data": {
      "text/plain": [
       "<ModelVersion: aliases=[], creation_timestamp=1723732892729, current_stage='None', description='', last_updated_timestamp=1723732892729, name='XGBoost-production', run_id='0e6dfbc042ca4666b0976a4f3e734de9', run_link='', source='models:/XGBoost-SMOTETomek/1', status='READY', status_message='', tags={}, user_id='', version='1'>"
      ]
     },
     "execution_count": 85,
     "metadata": {},
     "output_type": "execute_result"
    }
   ],
   "source": [
    "development_model_uri = f\"models:/{model_name}@challenger\"\n",
    "production_model = \"XGBoost-production\"\n",
    "\n",
    "client = mlflow.MlflowClient()\n",
    "client.copy_model_version(src_model_uri=development_model_uri, dst_name=production_model)"
   ]
  },
  {
   "cell_type": "markdown",
   "id": "9e168ea8",
   "metadata": {},
   "source": [
    "## Download the production model and test it"
   ]
  },
  {
   "cell_type": "code",
   "execution_count": 86,
   "id": "d3da570c",
   "metadata": {},
   "outputs": [
    {
     "data": {
      "application/vnd.jupyter.widget-view+json": {
       "model_id": "c1b08d7333684662892331716d26235a",
       "version_major": 2,
       "version_minor": 0
      },
      "text/plain": [
       "Downloading artifacts:   0%|          | 0/5 [00:00<?, ?it/s]"
      ]
     },
     "metadata": {},
     "output_type": "display_data"
    },
    {
     "data": {
      "text/plain": [
       "array([0, 0, 0, 0, 1])"
      ]
     },
     "execution_count": 86,
     "metadata": {},
     "output_type": "execute_result"
    }
   ],
   "source": [
    "model_uri = f\"models:/{production_model}@champion\"\n",
    "loaded_model = mlflow.xgboost.load_model(model_uri=model_uri)\n",
    "\n",
    "pred = loaded_model.predict(X_test)\n",
    "pred[:5]"
   ]
  },
  {
   "cell_type": "markdown",
   "id": "6d72e41a",
   "metadata": {},
   "source": [
    "## Tracking but on Dagshub server\n",
    "1. First create a Github Repo\n",
    "2. Upload the Notebook where you was doing MLFlow Experiment Tracking\n",
    "3. Go to dagshub and create an account\n",
    "4. Create a new repo in dagshub or connect to that repo u made in Github directly\n",
    "5. In ur dagshub repo, click on `Remote`, then `Experiments` then just copy the `Using Mlflow tracking` code and paste it as below\n",
    "6. Set environment variables credential \n",
    "7. Do the same thing where you log all the details, but in `uri`, put the dagshub link"
   ]
  },
  {
   "cell_type": "code",
   "execution_count": null,
   "id": "37a13b42",
   "metadata": {},
   "outputs": [],
   "source": []
  }
 ],
 "metadata": {
  "kernelspec": {
   "display_name": "Python 3 (ipykernel)",
   "language": "python",
   "name": "python3"
  },
  "language_info": {
   "codemirror_mode": {
    "name": "ipython",
    "version": 3
   },
   "file_extension": ".py",
   "mimetype": "text/x-python",
   "name": "python",
   "nbconvert_exporter": "python",
   "pygments_lexer": "ipython3",
   "version": "3.11.1"
  }
 },
 "nbformat": 4,
 "nbformat_minor": 5
}
